{
 "cells": [
  {
   "cell_type": "code",
   "execution_count": 1,
   "id": "7aedcc19",
   "metadata": {},
   "outputs": [],
   "source": [
    "import random    \n",
    "x=(random.randint(1,13))\n",
    "tries=0\n",
    "guess=0"
   ]
  },
  {
   "cell_type": "code",
   "execution_count": null,
   "id": "bc967fe0",
   "metadata": {},
   "outputs": [],
   "source": [
    "while guess != x and tries < 3:\n",
    "    tries= tries + 1\n",
    "    guess= int(input(\"What is your guess? \"))\n",
    "\n",
    "    if guess > x:\n",
    "        print(\"Sorry your guess was too high.\")\n",
    "    if guess < x:\n",
    "        print(\"Sorry your guess was too low.\")\n",
    "    if guess == x: \n",
    "        print(\"Congrats, you are a winner!!\")"
   ]
  },
  {
   "cell_type": "code",
   "execution_count": null,
   "id": "9d3676c6",
   "metadata": {},
   "outputs": [],
   "source": []
  }
 ],
 "metadata": {
  "kernelspec": {
   "display_name": "Python 3",
   "language": "python",
   "name": "python3"
  },
  "language_info": {
   "codemirror_mode": {
    "name": "ipython",
    "version": 3
   },
   "file_extension": ".py",
   "mimetype": "text/x-python",
   "name": "python",
   "nbconvert_exporter": "python",
   "pygments_lexer": "ipython3",
   "version": "3.8.8"
  }
 },
 "nbformat": 4,
 "nbformat_minor": 5
}
