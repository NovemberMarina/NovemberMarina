{
 "cells": [
  {
   "cell_type": "code",
   "execution_count": 42,
   "id": "b00e263a",
   "metadata": {},
   "outputs": [],
   "source": [
    "import os  ##https://gist.github.com/mjhea0/5680216\n",
    "import os\n",
    "import random"
   ]
  },
  {
   "cell_type": "code",
   "execution_count": 43,
   "id": "c660ead4",
   "metadata": {},
   "outputs": [],
   "source": [
    "deck = [2, 3, 4, 5, 6, 7, 8, 9, 10, 11, 12, 13, 14]*4\n",
    "def deal(deck):\n",
    "    hand = []\n",
    "    for i in range(2):\n",
    "        random.shuffle(deck)\n",
    "        card = deck.pop()\n",
    "        if card == 11:card = \"J\"\n",
    "        if card == 12:card = \"Q\"\n",
    "        if card == 13:card = \"K\"\n",
    "        if card == 14:card = \"A\"\n",
    "        hand.append(card)\n",
    "    return hand"
   ]
  },
  {
   "cell_type": "code",
   "execution_count": 44,
   "id": "5c10df20",
   "metadata": {},
   "outputs": [],
   "source": [
    "def play_again():\n",
    "    again = raw_input(\"Do you want to play again? (Y/N) : \").lower()\n",
    "    if again == \"y\":\n",
    "        dealer_hand = []\n",
    "        player_hand = []\n",
    "        deck = [2, 3, 4, 5, 6, 7, 8,            \n",
    "        exit()"
   ]
  },
  {
   "cell_type": "code",
   "execution_count": 48,
   "id": "6095037b",
   "metadata": {},
   "outputs": [
    {
     "ename": "SyntaxError",
     "evalue": "invalid syntax (<ipython-input-48-05a991768056>, line 9)",
     "output_type": "error",
     "traceback": [
      "\u001b[0;36m  File \u001b[0;32m\"<ipython-input-48-05a991768056>\"\u001b[0;36m, line \u001b[0;32m9\u001b[0m\n\u001b[0;31m    else: total += card\u001b[0m\n\u001b[0m    ^\u001b[0m\n\u001b[0;31mSyntaxError\u001b[0m\u001b[0;31m:\u001b[0m invalid syntax\n"
     ]
    }
   ],
   "source": [
    "def total(hand):\n",
    "    total = 0\n",
    "    for card in hand:\n",
    "        if card == \"J\" or card == \"Q\" or card == \"K\":\n",
    "            total += 10\n",
    "        elif card == \"A\":\n",
    "            if total >= 11: total+= 1\n",
    "        else: total += 11\n",
    "        else: total += card\n",
    "    return total"
   ]
  },
  {
   "cell_type": "code",
   "execution_count": 49,
   "id": "2264f1b3",
   "metadata": {},
   "outputs": [],
   "source": [
    "def hit(hand):\n",
    "    card = deck.pop()\n",
    "    if card == 11:card = \"J\"\n",
    "    if card == 12:card = \"Q\"\n",
    "    if card == 13:card = \"K\"\n",
    "    if card == 14:card = \"A\"\n",
    "    hand.append(card)\n",
    "    return hand"
   ]
  },
  {
   "cell_type": "code",
   "execution_count": 51,
   "id": "340018b5",
   "metadata": {},
   "outputs": [
    {
     "ename": "IndentationError",
     "evalue": "expected an indented block (<ipython-input-51-fb0b9ec81290>, line 3)",
     "output_type": "error",
     "traceback": [
      "\u001b[0;36m  File \u001b[0;32m\"<ipython-input-51-fb0b9ec81290>\"\u001b[0;36m, line \u001b[0;32m3\u001b[0m\n\u001b[0;31m    os.system('CLS')\u001b[0m\n\u001b[0m    ^\u001b[0m\n\u001b[0;31mIndentationError\u001b[0m\u001b[0;31m:\u001b[0m expected an indented block\n"
     ]
    }
   ],
   "source": [
    "def clear():\n",
    "    if os.name == 'int':\n",
    "    os.system('CLS')\n",
    "    if os.name == 'posix':\n",
    "    os.system('clear')"
   ]
  },
  {
   "cell_type": "code",
   "execution_count": 52,
   "id": "77d44950",
   "metadata": {},
   "outputs": [
    {
     "ename": "IndentationError",
     "evalue": "expected an indented block (<ipython-input-52-361831342753>, line 2)",
     "output_type": "error",
     "traceback": [
      "\u001b[0;36m  File \u001b[0;32m\"<ipython-input-52-361831342753>\"\u001b[0;36m, line \u001b[0;32m2\u001b[0m\n\u001b[0;31m    clear()\u001b[0m\n\u001b[0m    ^\u001b[0m\n\u001b[0;31mIndentationError\u001b[0m\u001b[0;31m:\u001b[0m expected an indented block\n"
     ]
    }
   ],
   "source": [
    "def print_results(dealer_hand, player_hand):\n",
    "clear()\n",
    "print \"The dealer has a \" + str(dealer_hand) + \" for a total of \" + str(total(dealer_hand))\n",
    "print \"You have a \" + str(player_hand) + \" for a total of \" + str(total(player_hand))"
   ]
  },
  {
   "cell_type": "code",
   "execution_count": 53,
   "id": "43617511",
   "metadata": {},
   "outputs": [
    {
     "ename": "IndentationError",
     "evalue": "expected an indented block (<ipython-input-53-e081c614d323>, line 3)",
     "output_type": "error",
     "traceback": [
      "\u001b[0;36m  File \u001b[0;32m\"<ipython-input-53-e081c614d323>\"\u001b[0;36m, line \u001b[0;32m3\u001b[0m\n\u001b[0;31m    print_results(dealer_hand, player_hand)\u001b[0m\n\u001b[0m    ^\u001b[0m\n\u001b[0;31mIndentationError\u001b[0m\u001b[0;31m:\u001b[0m expected an indented block\n"
     ]
    }
   ],
   "source": [
    "def blackjack(dealer_hand, player_hand):\n",
    "    if total(player_hand) == 21:\n",
    "    print_results(dealer_hand, player_hand)\n",
    "    print \"Congratulations! You got a Blackjack!\\n\"\n",
    "    play_again()\n",
    "    elif total(dealer_hand) == 21:\n",
    "    print_results(dealer_hand, player_hand)\t\t\n",
    "print \"Sorry, you lose. The dealer got a blackjack.\\n\"\n",
    "play_again()"
   ]
  },
  {
   "cell_type": "code",
   "execution_count": 54,
   "id": "b0b584f9",
   "metadata": {},
   "outputs": [
    {
     "ename": "IndentationError",
     "evalue": "expected an indented block (<ipython-input-54-f9f2d6591163>, line 3)",
     "output_type": "error",
     "traceback": [
      "\u001b[0;36m  File \u001b[0;32m\"<ipython-input-54-f9f2d6591163>\"\u001b[0;36m, line \u001b[0;32m3\u001b[0m\n\u001b[0;31m    print_results(dealer_hand, player_hand)\u001b[0m\n\u001b[0m    ^\u001b[0m\n\u001b[0;31mIndentationError\u001b[0m\u001b[0;31m:\u001b[0m expected an indented block\n"
     ]
    }
   ],
   "source": [
    "def score(dealer_hand, player_hand):\n",
    "    if total(player_hand) == 21:\n",
    "    print_results(dealer_hand, player_hand)\n",
    "    print \"Congratulations! You got a Blackjack!\\n\"\n",
    "elif total(dealer_hand) == 21:\n",
    "    print_results(dealer_hand, player_hand)\t\t\n",
    "    print \"Sorry, you lose. The dealer got a blackjack.\\n\"\n",
    "    elif total(player_hand) > 21:\n",
    "    print_results(dealer_hand, player_hand)\n",
    "    print \"Sorry. You busted. You lose.\\n\"\n",
    "    elif total(dealer_hand) > 21:\n",
    "    print_results(dealer_hand, player_hand)\t\t\t   \n",
    "    print \"Dealer busts. You win!\\n\"\n",
    "    elif total(player_hand) < total(dealer_hand):\n",
    "    print_results(dealer_hand, player_hand)\n",
    "    print \"Sorry. Your score isn't higher than the dealer. You lose.\\n\"\n",
    "    elif total(player_hand) > total(dealer_hand):\n",
    "    print_results(dealer_hand, player_hand)\t\t\t   \n",
    "    print \"Congratulations. Your score is higher than the dealer. You win\\n\""
   ]
  },
  {
   "cell_type": "code",
   "execution_count": null,
   "id": "37c963cc",
   "metadata": {},
   "outputs": [],
   "source": []
  }
 ],
 "metadata": {
  "kernelspec": {
   "display_name": "Python 3",
   "language": "python",
   "name": "python3"
  },
  "language_info": {
   "codemirror_mode": {
    "name": "ipython",
    "version": 3
   },
   "file_extension": ".py",
   "mimetype": "text/x-python",
   "name": "python",
   "nbconvert_exporter": "python",
   "pygments_lexer": "ipython3",
   "version": "3.8.8"
  }
 },
 "nbformat": 4,
 "nbformat_minor": 5
}
